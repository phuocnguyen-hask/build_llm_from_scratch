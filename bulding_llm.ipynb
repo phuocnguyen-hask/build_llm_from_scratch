{
 "cells": [
  {
   "cell_type": "code",
   "execution_count": 1,
   "id": "ce3801d8",
   "metadata": {},
   "outputs": [],
   "source": [
    "import torch\n",
    "import torch.nn as nn\n",
    "import tiktoken\n",
    "from blocks import TransformerBlock, InputPreprocess"
   ]
  },
  {
   "cell_type": "code",
   "execution_count": 2,
   "id": "b54459f7",
   "metadata": {},
   "outputs": [],
   "source": [
    "GPT2_CONFIG = {\n",
    "  \"activation_function\": \"gelu_new\",\n",
    "  \"architectures\": [\n",
    "    \"GPT2LMHeadModel\"\n",
    "  ],\n",
    "  \"attn_pdrop\": 0.1,\n",
    "  \"bos_token_id\": 50256,\n",
    "  \"embd_pdrop\": 0.1,\n",
    "  \"eos_token_id\": 50256,\n",
    "  \"initializer_range\": 0.02,\n",
    "  \"layer_norm_epsilon\": 1e-05,\n",
    "  \"model_type\": \"gpt2\",\n",
    "  \"n_ctx\": 1024,\n",
    "  \"n_embd\": 768,\n",
    "  \"n_head\": 12,\n",
    "  \"n_layer\": 12,\n",
    "  \"n_positions\": 1024,\n",
    "  \"resid_pdrop\": 0.1,\n",
    "  \"summary_activation\": None,\n",
    "  \"summary_first_dropout\": 0.1,\n",
    "  \"summary_proj_to_labels\": True,\n",
    "  \"summary_type\": \"cls_index\",\n",
    "  \"summary_use_proj\": True,\n",
    "  \"task_specific_params\": {\n",
    "    \"text-generation\": {\n",
    "      \"do_sample\": True,\n",
    "      \"max_length\": 50\n",
    "    }\n",
    "  },\n",
    "  \"vocab_size\": 50257\n",
    "}"
   ]
  },
  {
   "cell_type": "code",
   "execution_count": 8,
   "id": "c737bf6c",
   "metadata": {},
   "outputs": [],
   "source": [
    "class SmallLLM(nn.Module):\n",
    "    def __init__(self, tokenizer, cfg):\n",
    "        super().__init__()\n",
    "        self.preprocessor = InputPreprocess(tokenizer, cfg)\n",
    "        self.transformers = nn.Sequential(*[TransformerBlock(cfg) for _ in range(cfg['n_layer'])])\n",
    "        self.last_embedding_layer = nn.Linear(cfg['n_embd'], cfg['vocab_size'])\n",
    "    \n",
    "    def forward(self, x):\n",
    "        vec_inputs = self.preprocessor(x)\n",
    "        t_outputs = self.transformers(vec_inputs)\n",
    "        logits = self.last_embedding_layer(t_outputs)\n",
    "        logits = logits[:, -1, :]\n",
    "        probas = torch.softmax(logits, dim=-1)\n",
    "        out_ids = torch.argmax(probas, dim=-1)\n",
    "        return out_ids"
   ]
  },
  {
   "cell_type": "code",
   "execution_count": 15,
   "id": "0cca95ae",
   "metadata": {},
   "outputs": [
    {
     "name": "stdout",
     "output_type": "stream",
     "text": [
      "torch.Size([1])\n",
      "tensor([48755])\n"
     ]
    }
   ],
   "source": [
    "tokenizer = tiktoken.get_encoding('gpt2')\n",
    "sllm = SmallLLM(tokenizer, GPT2_CONFIG)\n",
    "txt = 'Hello, i am'\n",
    "out_ids = sllm(txt)\n",
    "print(out_ids.shape)\n",
    "print(out_ids)"
   ]
  },
  {
   "cell_type": "code",
   "execution_count": 17,
   "id": "3e244aa9",
   "metadata": {},
   "outputs": [
    {
     "name": "stdout",
     "output_type": "stream",
     "text": [
      " etched\n"
     ]
    }
   ],
   "source": [
    "out_ids = out_ids.tolist()\n",
    "print(tokenizer.decode(out_ids))"
   ]
  },
  {
   "cell_type": "code",
   "execution_count": 18,
   "id": "a85187e6",
   "metadata": {},
   "outputs": [
    {
     "name": "stdout",
     "output_type": "stream",
     "text": [
      "Hello, i am resolves Quite shader Tempest sample006IEDOffsetryukidindaena Heat Anderson nestsfre explodesuing Annie Farmers\n"
     ]
    }
   ],
   "source": [
    "def generate_text(txt, llm, length=20):\n",
    "    tokenizer = tiktoken.get_encoding('gpt2')\n",
    "    tokens = tokenizer.encode(txt)\n",
    "    for _ in range(length):\n",
    "        next_token = llm(txt)\n",
    "        tokens.append(next_token)\n",
    "        txt = tokenizer.decode(tokens)\n",
    "    return txt\n",
    "\n",
    "new_text = generate_text(\"Hello, i am\", sllm)\n",
    "print(new_text)"
   ]
  },
  {
   "cell_type": "code",
   "execution_count": null,
   "id": "7e6755d6",
   "metadata": {},
   "outputs": [],
   "source": []
  }
 ],
 "metadata": {
  "kernelspec": {
   "display_name": "torchenv",
   "language": "python",
   "name": "python3"
  },
  "language_info": {
   "codemirror_mode": {
    "name": "ipython",
    "version": 3
   },
   "file_extension": ".py",
   "mimetype": "text/x-python",
   "name": "python",
   "nbconvert_exporter": "python",
   "pygments_lexer": "ipython3",
   "version": "3.13.7"
  }
 },
 "nbformat": 4,
 "nbformat_minor": 5
}
