{
 "cells": [
  {
   "cell_type": "code",
   "execution_count": 1,
   "id": "6ab65c00",
   "metadata": {},
   "outputs": [
    {
     "name": "stdout",
     "output_type": "stream",
     "text": [
      "184229\n"
     ]
    }
   ],
   "source": [
    "with open('jonah.txt') as f:\n",
    "    whole_book = f.read()\n",
    "start = whole_book.find(\"In those days \")\n",
    "end = whole_book.find(\"THE END\\\n",
    "                            \\\n",
    "                            \\\n",
    "                            \\\n",
    "                            TRANSCRIBER’S NOTES:\")\n",
    "content = whole_book[start:end]\n",
    "print(len(content))"
   ]
  },
  {
   "cell_type": "code",
   "execution_count": 2,
   "id": "caaf6ba3",
   "metadata": {},
   "outputs": [],
   "source": [
    "import torch\n",
    "from torch.utils.data import Dataset, DataLoader\n",
    "import tiktoken"
   ]
  },
  {
   "cell_type": "code",
   "execution_count": 3,
   "id": "30159f8b",
   "metadata": {},
   "outputs": [],
   "source": [
    "class JonahDataset(Dataset):\n",
    "    def __init__(self, txt, tokenizer, context_length, stride):\n",
    "        \n",
    "        self.tokens = tokenizer.encode(txt)\n",
    "\n",
    "        self.inputs = []\n",
    "        self.targets = []\n",
    "\n",
    "        tokens_length = len(self.tokens)\n",
    "        for i in range(0, tokens_length - context_length, stride):\n",
    "            self.inputs.append(torch.tensor(self.tokens[i: i + context_length]))\n",
    "            self.targets.append(torch.tensor(self.tokens[i+1:i+context_length +1]))\n",
    "    \n",
    "    def __len__(self):\n",
    "        return len(self.inputs)\n",
    "    \n",
    "    def __getitem__(self, idx):\n",
    "        return self.inputs[idx], self.targets[idx]\n"
   ]
  },
  {
   "cell_type": "code",
   "execution_count": 4,
   "id": "29a8e741",
   "metadata": {},
   "outputs": [],
   "source": [
    "tokenizer = tiktoken.get_encoding('gpt2')\n",
    "context_length = 10\n",
    "stride = 10\n",
    "jdata = JonahDataset(content, tokenizer, context_length, stride)"
   ]
  },
  {
   "cell_type": "code",
   "execution_count": 5,
   "id": "41729466",
   "metadata": {},
   "outputs": [
    {
     "data": {
      "text/plain": [
       "(tensor([  818,   883,  1528,   612,   547, 30687,   287,  2692,    13,  1119]),\n",
       " tensor([  883,  1528,   612,   547, 30687,   287,  2692,    13,  1119,  5615]))"
      ]
     },
     "execution_count": 5,
     "metadata": {},
     "output_type": "execute_result"
    }
   ],
   "source": [
    "next(iter(jdata))"
   ]
  },
  {
   "cell_type": "code",
   "execution_count": 6,
   "id": "f10763ff",
   "metadata": {},
   "outputs": [
    {
     "name": "stdout",
     "output_type": "stream",
     "text": [
      "input: tensor([818])\n",
      "target: 883\n",
      "input: tensor([818, 883])\n",
      "target: 1528\n",
      "input: tensor([ 818,  883, 1528])\n",
      "target: 612\n",
      "input: tensor([ 818,  883, 1528,  612])\n",
      "target: 547\n",
      "input: tensor([ 818,  883, 1528,  612,  547])\n",
      "target: 30687\n",
      "input: tensor([  818,   883,  1528,   612,   547, 30687])\n",
      "target: 287\n",
      "input: tensor([  818,   883,  1528,   612,   547, 30687,   287])\n",
      "target: 2692\n",
      "input: tensor([  818,   883,  1528,   612,   547, 30687,   287,  2692])\n",
      "target: 13\n",
      "input: tensor([  818,   883,  1528,   612,   547, 30687,   287,  2692,    13])\n",
      "target: 1119\n"
     ]
    }
   ],
   "source": [
    "inputs, targets = next(iter(jdata))\n",
    "for i in range(1, context_length):\n",
    "    print(f'input: {inputs[:i]}')\n",
    "    print(f'target: {inputs[i]}')\n",
    "    "
   ]
  },
  {
   "cell_type": "code",
   "execution_count": 7,
   "id": "b972fda7",
   "metadata": {},
   "outputs": [],
   "source": [
    "batch = 32\n",
    "jonah_loader = DataLoader(jdata, batch)"
   ]
  },
  {
   "cell_type": "code",
   "execution_count": 8,
   "id": "17a6fc2a",
   "metadata": {},
   "outputs": [],
   "source": [
    "GPT2_CONFIG = {\n",
    "  \"activation_function\": \"gelu_new\",\n",
    "  \"architectures\": [\n",
    "    \"GPT2LMHeadModel\"\n",
    "  ],\n",
    "  \"attn_pdrop\": 0.1,\n",
    "  \"bos_token_id\": 50256,\n",
    "  \"embd_pdrop\": 0.1,\n",
    "  \"eos_token_id\": 50256,\n",
    "  \"initializer_range\": 0.02,\n",
    "  \"layer_norm_epsilon\": 1e-05,\n",
    "  \"model_type\": \"gpt2\",\n",
    "  \"n_ctx\": 1024,\n",
    "  \"n_embd\": 768,\n",
    "  \"n_head\": 12,\n",
    "  \"n_layer\": 12,\n",
    "  \"n_positions\": 1024,\n",
    "  \"resid_pdrop\": 0.1,\n",
    "  \"summary_activation\": None,\n",
    "  \"summary_first_dropout\": 0.1,\n",
    "  \"summary_proj_to_labels\": True,\n",
    "  \"summary_type\": \"cls_index\",\n",
    "  \"summary_use_proj\": True,\n",
    "  \"task_specific_params\": {\n",
    "    \"text-generation\": {\n",
    "      \"do_sample\": True,\n",
    "      \"max_length\": 50\n",
    "    }\n",
    "  },\n",
    "  \"vocab_size\": 50257\n",
    "}"
   ]
  },
  {
   "cell_type": "code",
   "execution_count": 9,
   "id": "a4cbad99",
   "metadata": {},
   "outputs": [],
   "source": [
    "import sys\n",
    "sys.path.append('../')  # project root\n",
    "\n",
    "from model.final_model import MyLLM\n",
    "mllm = MyLLM(GPT2_CONFIG)"
   ]
  },
  {
   "cell_type": "code",
   "execution_count": 10,
   "id": "91751743",
   "metadata": {},
   "outputs": [
    {
     "name": "stdout",
     "output_type": "stream",
     "text": [
      "torch.Size([32, 50257])\n",
      "tensor([[1.8733e-05, 1.3332e-06, 1.2994e-05,  ..., 6.4996e-06, 4.7396e-05,\n",
      "         7.7725e-05],\n",
      "        [1.8678e-05, 7.7256e-06, 4.8023e-05,  ..., 1.4252e-05, 8.2557e-06,\n",
      "         5.4162e-06],\n",
      "        [5.5097e-06, 1.2348e-05, 3.0162e-05,  ..., 1.1595e-05, 2.2796e-05,\n",
      "         3.6563e-05],\n",
      "        ...,\n",
      "        [5.2321e-06, 1.0770e-05, 1.1378e-05,  ..., 1.3350e-06, 1.7355e-05,\n",
      "         4.7236e-05],\n",
      "        [6.6689e-06, 1.7189e-07, 1.9120e-06,  ..., 9.9183e-07, 3.6660e-05,\n",
      "         5.0009e-05],\n",
      "        [5.0174e-06, 1.7802e-06, 5.5738e-05,  ..., 6.2422e-06, 1.7987e-05,\n",
      "         6.6110e-05]], grad_fn=<SoftmaxBackward0>)\n"
     ]
    }
   ],
   "source": [
    "for inputs, targets in jonah_loader:\n",
    "    outputs = mllm(inputs)\n",
    "    print(outputs.shape)\n",
    "    print(outputs) \n",
    "    break"
   ]
  },
  {
   "cell_type": "code",
   "execution_count": null,
   "id": "997c97dd",
   "metadata": {},
   "outputs": [],
   "source": []
  }
 ],
 "metadata": {
  "kernelspec": {
   "display_name": "torchenv",
   "language": "python",
   "name": "python3"
  },
  "language_info": {
   "codemirror_mode": {
    "name": "ipython",
    "version": 3
   },
   "file_extension": ".py",
   "mimetype": "text/x-python",
   "name": "python",
   "nbconvert_exporter": "python",
   "pygments_lexer": "ipython3",
   "version": "3.13.7"
  }
 },
 "nbformat": 4,
 "nbformat_minor": 5
}
