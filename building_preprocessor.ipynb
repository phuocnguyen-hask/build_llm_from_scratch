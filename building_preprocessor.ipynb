{
 "cells": [
  {
   "cell_type": "code",
   "execution_count": 8,
   "id": "92224c87",
   "metadata": {},
   "outputs": [],
   "source": [
    "from blocks import InputPreprocess\n",
    "import tiktoken"
   ]
  },
  {
   "cell_type": "code",
   "execution_count": 9,
   "id": "1db27968",
   "metadata": {},
   "outputs": [],
   "source": [
    "tokenizer = tiktoken.get_encoding('gpt2')\n",
    "GPT2_CONFIG = {\n",
    "  \"activation_function\": \"gelu_new\",\n",
    "  \"architectures\": [\n",
    "    \"GPT2LMHeadModel\"\n",
    "  ],\n",
    "  \"attn_pdrop\": 0.1,\n",
    "  \"bos_token_id\": 50256,\n",
    "  \"embd_pdrop\": 0.1,\n",
    "  \"eos_token_id\": 50256,\n",
    "  \"initializer_range\": 0.02,\n",
    "  \"layer_norm_epsilon\": 1e-05,\n",
    "  \"model_type\": \"gpt2\",\n",
    "  \"n_ctx\": 1024,\n",
    "  \"n_embd\": 768,\n",
    "  \"n_head\": 12,\n",
    "  \"n_layer\": 12,\n",
    "  \"n_positions\": 1024,\n",
    "  \"resid_pdrop\": 0.1,\n",
    "  \"summary_activation\": None,\n",
    "  \"summary_first_dropout\": 0.1,\n",
    "  \"summary_proj_to_labels\": True,\n",
    "  \"summary_type\": \"cls_index\",\n",
    "  \"summary_use_proj\": True,\n",
    "  \"task_specific_params\": {\n",
    "    \"text-generation\": {\n",
    "      \"do_sample\": True,\n",
    "      \"max_length\": 50\n",
    "    }\n",
    "  },\n",
    "  \"vocab_size\": 50257\n",
    "}"
   ]
  },
  {
   "cell_type": "code",
   "execution_count": 10,
   "id": "0741e3da",
   "metadata": {},
   "outputs": [],
   "source": [
    "ip = InputPreprocess(tokenizer, GPT2_CONFIG)\n",
    "txt_list = [\"I am in Ha Noi\", \"Explain what's the transformers i 5 minutes\"]\n",
    "inputs, attn_masked = ip(txt_list)"
   ]
  },
  {
   "cell_type": "code",
   "execution_count": 11,
   "id": "3ef56b07",
   "metadata": {},
   "outputs": [
    {
     "name": "stdout",
     "output_type": "stream",
     "text": [
      "torch.Size([2, 10, 768])\n",
      "torch.Size([2, 1, 1, 10])\n"
     ]
    }
   ],
   "source": [
    "print(inputs.shape)\n",
    "print(attn_masked.shape)"
   ]
  },
  {
   "cell_type": "code",
   "execution_count": 12,
   "id": "a43b1101",
   "metadata": {},
   "outputs": [
    {
     "name": "stdout",
     "output_type": "stream",
     "text": [
      "tensor([[[-0.3052, -3.5234,  1.0432,  ..., -0.8650,  1.7708, -1.5948],\n",
      "         [ 2.3044,  3.2293,  1.1646,  ...,  0.7300,  0.0557,  2.3054],\n",
      "         [ 1.4038, -1.1272,  0.4386,  ...,  1.1607, -1.2069, -0.8812],\n",
      "         ...,\n",
      "         [-0.0702,  1.3136, -0.7022,  ..., -2.7585, -0.9347,  0.2780],\n",
      "         [ 1.5782,  0.7862,  0.5654,  ..., -0.3721,  0.5352,  0.3973],\n",
      "         [ 0.2597,  2.8730,  0.7492,  ..., -0.7969, -0.8722, -1.0621]],\n",
      "\n",
      "        [[ 1.2830, -2.7224, -0.0158,  ..., -0.5556, -1.3101, -1.9773],\n",
      "         [-1.6789,  1.3044,  0.0321,  ...,  0.1112,  3.3969,  2.1343],\n",
      "         [-0.6332, -0.8554,  0.1782,  ...,  3.4361, -0.4573,  0.1535],\n",
      "         ...,\n",
      "         [-0.1346, -0.4382, -0.9837,  ..., -2.3259, -0.2421,  0.8486],\n",
      "         [ 0.9757, -0.2826,  0.4836,  ...,  0.5737,  1.4028,  1.5871],\n",
      "         [-0.5119,  1.0605,  1.3500,  ...,  0.2390, -0.9372, -2.9989]]],\n",
      "       grad_fn=<AddBackward0>)\n"
     ]
    }
   ],
   "source": [
    "print(inputs)"
   ]
  },
  {
   "cell_type": "code",
   "execution_count": 13,
   "id": "c37fdc4a",
   "metadata": {},
   "outputs": [
    {
     "name": "stdout",
     "output_type": "stream",
     "text": [
      "tensor([[[[ True,  True,  True,  True,  True,  True, False, False, False, False]]],\n",
      "\n",
      "\n",
      "        [[[ True,  True,  True,  True,  True,  True,  True,  True,  True,  True]]]])\n"
     ]
    }
   ],
   "source": [
    "print(attn_masked)"
   ]
  },
  {
   "cell_type": "code",
   "execution_count": 14,
   "id": "d1db62b8",
   "metadata": {},
   "outputs": [
    {
     "name": "stdout",
     "output_type": "stream",
     "text": [
      "tensor([[[ True,  True,  True,  True,  True,  True, False, False, False, False]],\n",
      "\n",
      "        [[ True,  True,  True,  True,  True,  True,  True,  True,  True,  True]]])\n"
     ]
    }
   ],
   "source": [
    "print(attn_masked.reshape(2, 1, 10))"
   ]
  }
 ],
 "metadata": {
  "kernelspec": {
   "display_name": "torchenv",
   "language": "python",
   "name": "python3"
  },
  "language_info": {
   "codemirror_mode": {
    "name": "ipython",
    "version": 3
   },
   "file_extension": ".py",
   "mimetype": "text/x-python",
   "name": "python",
   "nbconvert_exporter": "python",
   "pygments_lexer": "ipython3",
   "version": "3.13.7"
  }
 },
 "nbformat": 4,
 "nbformat_minor": 5
}
