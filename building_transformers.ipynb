{
 "cells": [
  {
   "cell_type": "code",
   "execution_count": 2,
   "id": "05f9c150",
   "metadata": {},
   "outputs": [],
   "source": [
    "import torch\n",
    "import torch.nn as nn"
   ]
  },
  {
   "cell_type": "code",
   "execution_count": 3,
   "id": "177e94ef",
   "metadata": {},
   "outputs": [],
   "source": [
    "GPT2_CONFIG = {\n",
    "  \"activation_function\": \"gelu_new\",\n",
    "  \"architectures\": [\n",
    "    \"GPT2LMHeadModel\"\n",
    "  ],\n",
    "  \"attn_pdrop\": 0.1,\n",
    "  \"bos_token_id\": 50256,\n",
    "  \"embd_pdrop\": 0.1,\n",
    "  \"eos_token_id\": 50256,\n",
    "  \"initializer_range\": 0.02,\n",
    "  \"layer_norm_epsilon\": 1e-05,\n",
    "  \"model_type\": \"gpt2\",\n",
    "  \"n_ctx\": 1024,\n",
    "  \"n_embd\": 768,\n",
    "  \"n_head\": 12,\n",
    "  \"n_layer\": 12,\n",
    "  \"n_positions\": 1024,\n",
    "  \"resid_pdrop\": 0.1,\n",
    "  \"summary_activation\": None,\n",
    "  \"summary_first_dropout\": 0.1,\n",
    "  \"summary_proj_to_labels\": True,\n",
    "  \"summary_type\": \"cls_index\",\n",
    "  \"summary_use_proj\": True,\n",
    "  \"task_specific_params\": {\n",
    "    \"text-generation\": {\n",
    "      \"do_sample\": True,\n",
    "      \"max_length\": 50\n",
    "    }\n",
    "  },\n",
    "  \"vocab_size\": 50257\n",
    "}"
   ]
  },
  {
   "cell_type": "code",
   "execution_count": 8,
   "id": "d62b0a2e",
   "metadata": {},
   "outputs": [],
   "source": [
    "from blocks import MultiHeadAttention, FFN\n",
    "class TransformerBlock(nn.Module):\n",
    "    def __init__(self, cfg):\n",
    "        super().__init__()\n",
    "        d_in = cfg['n_embd']\n",
    "        d_out = cfg['n_embd']\n",
    "        self.layer_norm1 = nn.LayerNorm(d_in)\n",
    "        self.mhma = MultiHeadAttention(cfg)\n",
    "        self.drop1 = nn.Dropout(cfg['embd_pdrop'])\n",
    "        self.layer_norm2 = nn.LayerNorm(d_out)\n",
    "        self.ffn = FFN(cfg)\n",
    "        self.drop2 = nn.Dropout(cfg['embd_pdrop'])\n",
    "    \n",
    "    def forward(self, x):\n",
    "        x_pre = x\n",
    "        x_p1 = self.layer_norm1(x)\n",
    "        x_p1 = self.mhma(x_p1)\n",
    "        x_p1 = self.drop1(x_p1)\n",
    "        x_p1 = x_pre + x_p1\n",
    "        x_p2 = self.layer_norm2(x_p1)\n",
    "        x_p2 = self.ffn(x_p2)\n",
    "        x_p2 = self.drop2(x_p2)\n",
    "        x_final = x_p1 + x_p2\n",
    "\n",
    "        return x_final\n"
   ]
  },
  {
   "cell_type": "code",
   "execution_count": 9,
   "id": "7c956afd",
   "metadata": {},
   "outputs": [
    {
     "name": "stdout",
     "output_type": "stream",
     "text": [
      "torch.Size([2, 4, 768])\n",
      "tensor([[[ 0.4450, -0.2454, -0.2246,  ...,  1.7134, -0.5881,  1.1280],\n",
      "         [ 0.3554, -0.6981,  0.1642,  ..., -0.6029,  0.1183,  0.9462],\n",
      "         [ 0.8822,  0.0585,  0.6456,  ..., -0.0868,  0.1910,  0.6915],\n",
      "         [ 0.3881,  0.2339,  0.8671,  ..., -0.3560, -0.1109,  0.7169]],\n",
      "\n",
      "        [[ 0.1437,  0.9500, -0.1398,  ...,  0.2089,  0.7430,  0.0888],\n",
      "         [-0.2217, -0.2557,  0.9253,  ...,  0.3462, -1.0515,  0.3073],\n",
      "         [ 0.6949,  1.1424,  0.2081,  ...,  0.4882,  0.4778,  0.6516],\n",
      "         [ 0.3915,  0.3891, -0.0732,  ...,  0.3211,  0.4178,  0.8796]]],\n",
      "       grad_fn=<AddBackward0>)\n"
     ]
    }
   ],
   "source": [
    "tb = TransformerBlock(GPT2_CONFIG)\n",
    "inputs = torch.rand((2, 4, 768))\n",
    "outputs = tb(inputs)\n",
    "print(outputs.shape)\n",
    "print(outputs)"
   ]
  },
  {
   "cell_type": "code",
   "execution_count": null,
   "id": "230071cb",
   "metadata": {},
   "outputs": [],
   "source": []
  }
 ],
 "metadata": {
  "kernelspec": {
   "display_name": "torchenv",
   "language": "python",
   "name": "python3"
  },
  "language_info": {
   "codemirror_mode": {
    "name": "ipython",
    "version": 3
   },
   "file_extension": ".py",
   "mimetype": "text/x-python",
   "name": "python",
   "nbconvert_exporter": "python",
   "pygments_lexer": "ipython3",
   "version": "3.13.7"
  }
 },
 "nbformat": 4,
 "nbformat_minor": 5
}
