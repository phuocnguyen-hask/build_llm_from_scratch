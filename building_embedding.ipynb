{
 "cells": [
  {
   "cell_type": "code",
   "execution_count": 5,
   "id": "579eb1f1",
   "metadata": {},
   "outputs": [],
   "source": [
    "import torch\n",
    "import torch.nn as nn"
   ]
  },
  {
   "cell_type": "code",
   "execution_count": 6,
   "id": "05c7e7b2",
   "metadata": {},
   "outputs": [
    {
     "name": "stdout",
     "output_type": "stream",
     "text": [
      "[1212, 318, 2727, 329, 4856, 4007, 13]\n"
     ]
    }
   ],
   "source": [
    "import tiktoken\n",
    "tokenizer = tiktoken.get_encoding('gpt2')\n",
    "txt = 'This is created for testing purpose.'\n",
    "ids = tokenizer.encode(txt)\n",
    "print(ids)"
   ]
  },
  {
   "cell_type": "code",
   "execution_count": 7,
   "id": "30ae47cd",
   "metadata": {},
   "outputs": [
    {
     "name": "stdout",
     "output_type": "stream",
     "text": [
      "torch.Size([7, 768])\n"
     ]
    }
   ],
   "source": [
    "n_dim = 768\n",
    "n_context = 1024\n",
    "embd_layer = nn.Embedding(tokenizer.n_vocab, n_dim)\n",
    "pos_embd_layer = nn.Embedding(n_context, n_dim)\n",
    "length = len(ids)\n",
    "ids = torch.tensor(ids) # change to pytorch tensor for compapility\n",
    "embd_vecs = embd_layer(ids)\n",
    "pos_embd_vecs = embd_layer(torch.arange(length))\n",
    "input_vecs = embd_vecs + pos_embd_vecs\n",
    "print(input_vecs.shape)"
   ]
  },
  {
   "cell_type": "code",
   "execution_count": 8,
   "id": "9a92015a",
   "metadata": {},
   "outputs": [],
   "source": [
    "GPT2_CONFIG = {\n",
    "  \"activation_function\": \"gelu_new\",\n",
    "  \"architectures\": [\n",
    "    \"GPT2LMHeadModel\"\n",
    "  ],\n",
    "  \"attn_pdrop\": 0.1,\n",
    "  \"bos_token_id\": 50256,\n",
    "  \"embd_pdrop\": 0.1,\n",
    "  \"eos_token_id\": 50256,\n",
    "  \"initializer_range\": 0.02,\n",
    "  \"layer_norm_epsilon\": 1e-05,\n",
    "  \"model_type\": \"gpt2\",\n",
    "  \"n_ctx\": 1024,\n",
    "  \"n_embd\": 768,\n",
    "  \"n_head\": 12,\n",
    "  \"n_layer\": 12,\n",
    "  \"n_positions\": 1024,\n",
    "  \"resid_pdrop\": 0.1,\n",
    "  \"summary_activation\": None,\n",
    "  \"summary_first_dropout\": 0.1,\n",
    "  \"summary_proj_to_labels\": True,\n",
    "  \"summary_type\": \"cls_index\",\n",
    "  \"summary_use_proj\": True,\n",
    "  \"task_specific_params\": {\n",
    "    \"text-generation\": {\n",
    "      \"do_sample\": True,\n",
    "      \"max_length\": 50\n",
    "    }\n",
    "  },\n",
    "  \"vocab_size\": 50257\n",
    "}"
   ]
  },
  {
   "cell_type": "code",
   "execution_count": 9,
   "id": "32bdf477",
   "metadata": {},
   "outputs": [],
   "source": [
    "class InputPreprocess(nn.Module):\n",
    "    def __init__(self, tokenizer, cfg):\n",
    "        super().__init__()\n",
    "        self.tokenizer = tokenizer\n",
    "        n_vocab = cfg['vocab_size']\n",
    "        n_dim = cfg['n_embd']\n",
    "        n_context = cfg['n_ctx']\n",
    "        \n",
    "        self.embedding_layer = nn.Embedding(n_vocab, n_dim)\n",
    "        self.pos_embedding_layer = nn.Embedding(n_context, n_dim)\n",
    "    \n",
    "    def forward(self, x):\n",
    "        ids = self.tokenizer.encode(x)\n",
    "        length = len(ids)\n",
    "        ids = torch.tensor(ids) # change to torch tensor for compapility\n",
    "\n",
    "        embd_vecs = self.embedding_layer(ids)\n",
    "        pos_embd_vecs = self.pos_embedding_layer(torch.arange(length))\n",
    "\n",
    "        return (embd_vecs + pos_embd_vecs).unsqueeze(0)\n"
   ]
  },
  {
   "cell_type": "code",
   "execution_count": 10,
   "id": "1ea2ebf2",
   "metadata": {},
   "outputs": [
    {
     "name": "stdout",
     "output_type": "stream",
     "text": [
      "torch.Size([1, 7, 768])\n"
     ]
    }
   ],
   "source": [
    "preprocesser = InputPreprocess(tokenizer, GPT2_CONFIG)\n",
    "outputs = preprocesser(txt)\n",
    "print(outputs.shape)"
   ]
  },
  {
   "cell_type": "code",
   "execution_count": 11,
   "id": "abed00cc",
   "metadata": {},
   "outputs": [
    {
     "name": "stdout",
     "output_type": "stream",
     "text": [
      "[15496, 11, 1312, 716]\n"
     ]
    }
   ],
   "source": [
    "outputs = tokenizer.encode(\"Hello, i am\")\n",
    "print(outputs)"
   ]
  },
  {
   "cell_type": "code",
   "execution_count": null,
   "id": "a991b976",
   "metadata": {},
   "outputs": [],
   "source": []
  }
 ],
 "metadata": {
  "kernelspec": {
   "display_name": "torchenv",
   "language": "python",
   "name": "python3"
  },
  "language_info": {
   "codemirror_mode": {
    "name": "ipython",
    "version": 3
   },
   "file_extension": ".py",
   "mimetype": "text/x-python",
   "name": "python",
   "nbconvert_exporter": "python",
   "pygments_lexer": "ipython3",
   "version": "3.13.7"
  }
 },
 "nbformat": 4,
 "nbformat_minor": 5
}
