{
 "cells": [
  {
   "cell_type": "code",
   "execution_count": 1,
   "id": "ce3801d8",
   "metadata": {},
   "outputs": [],
   "source": [
    "import torch\n",
    "import torch.nn as nn\n",
    "import tiktoken\n",
    "from blocks import TransformerBlock, InputPreprocess"
   ]
  },
  {
   "cell_type": "code",
   "execution_count": 2,
   "id": "b54459f7",
   "metadata": {},
   "outputs": [],
   "source": [
    "GPT2_CONFIG = {\n",
    "  \"activation_function\": \"gelu_new\",\n",
    "  \"architectures\": [\n",
    "    \"GPT2LMHeadModel\"\n",
    "  ],\n",
    "  \"attn_pdrop\": 0.1,\n",
    "  \"bos_token_id\": 50256,\n",
    "  \"embd_pdrop\": 0.1,\n",
    "  \"eos_token_id\": 50256,\n",
    "  \"initializer_range\": 0.02,\n",
    "  \"layer_norm_epsilon\": 1e-05,\n",
    "  \"model_type\": \"gpt2\",\n",
    "  \"n_ctx\": 1024,\n",
    "  \"n_embd\": 768,\n",
    "  \"n_head\": 12,\n",
    "  \"n_layer\": 12,\n",
    "  \"n_positions\": 1024,\n",
    "  \"resid_pdrop\": 0.1,\n",
    "  \"summary_activation\": None,\n",
    "  \"summary_first_dropout\": 0.1,\n",
    "  \"summary_proj_to_labels\": True,\n",
    "  \"summary_type\": \"cls_index\",\n",
    "  \"summary_use_proj\": True,\n",
    "  \"task_specific_params\": {\n",
    "    \"text-generation\": {\n",
    "      \"do_sample\": True,\n",
    "      \"max_length\": 50\n",
    "    }\n",
    "  },\n",
    "  \"vocab_size\": 50257\n",
    "}"
   ]
  },
  {
   "cell_type": "code",
   "execution_count": 5,
   "id": "c737bf6c",
   "metadata": {},
   "outputs": [],
   "source": [
    "class SmallLLM(nn.Module):\n",
    "    def __init__(self, tokenizer, cfg):\n",
    "        super().__init__()\n",
    "        self.preprocessor = InputPreprocess(tokenizer, cfg)\n",
    "        self.transformers = nn.ModuleList([TransformerBlock(cfg) for _ in range(cfg['n_layer'])])\n",
    "        self.last_embedding_layer = nn.Linear(cfg['n_embd'], cfg['vocab_size'])\n",
    "    \n",
    "    def forward(self, x, attn_mask):\n",
    "        t_outputs = x\n",
    "        for transformer in self.transformers:\n",
    "            t_outputs = transformer(t_outputs, attn_mask)\n",
    "        logits = self.last_embedding_layer(t_outputs)\n",
    "        logits = logits[:, -1, :]\n",
    "        probs = torch.softmax(logits, dim=-1)\n",
    "        return probs # return probs to get full distribution not just generated token"
   ]
  },
  {
   "cell_type": "code",
   "execution_count": 7,
   "id": "13be7713",
   "metadata": {},
   "outputs": [
    {
     "data": {
      "text/plain": [
       "['Hello,  Boldmeal Abbott interrupted Kam volleyball pee usefulnessoké Watts evaluated Luis sued Marlins RESP ledger disconnect grapp Catal Entreprene',\n",
       " 'Who are you?zie Bromouse gene gradually physiology ant SeahawksloadingSimon617 Sob chaoticrealityBrazil technology ChampionSpot derivatives IA']"
      ]
     },
     "execution_count": 7,
     "metadata": {},
     "output_type": "execute_result"
    }
   ],
   "source": [
    "tokenizer = tiktoken.get_encoding('gpt2')\n",
    "model = SmallLLM(tokenizer, GPT2_CONFIG)\n",
    "def generate_text(tokenizer, model, text_list, max_length):\n",
    "    decoded_text = text_list\n",
    "    input_preprocessor = InputPreprocess(tokenizer, GPT2_CONFIG)\n",
    "    for _ in range(max_length):\n",
    "        input_vecs, attn_mask = input_preprocessor(decoded_text)\n",
    "        probs = model(input_vecs, attn_mask)\n",
    "\n",
    "        next_tokens = torch.argmax(probs, dim=-1).tolist()\n",
    "\n",
    "        for i, token in enumerate(next_tokens):\n",
    "            decoded_new_tokens = tokenizer.decode([token])\n",
    "            decoded_text[i] += decoded_new_tokens\n",
    "    return decoded_text\n",
    "generate_text(tokenizer, model, ['Hello, ', 'Who are you?'], 20)"
   ]
  },
  {
   "cell_type": "code",
   "execution_count": null,
   "id": "82a92b21",
   "metadata": {},
   "outputs": [],
   "source": []
  }
 ],
 "metadata": {
  "kernelspec": {
   "display_name": "torchenv",
   "language": "python",
   "name": "python3"
  },
  "language_info": {
   "codemirror_mode": {
    "name": "ipython",
    "version": 3
   },
   "file_extension": ".py",
   "mimetype": "text/x-python",
   "name": "python",
   "nbconvert_exporter": "python",
   "pygments_lexer": "ipython3",
   "version": "3.13.7"
  }
 },
 "nbformat": 4,
 "nbformat_minor": 5
}
