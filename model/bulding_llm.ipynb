{
 "cells": [
  {
   "cell_type": "code",
   "execution_count": 1,
   "id": "ce3801d8",
   "metadata": {},
   "outputs": [],
   "source": [
    "import torch\n",
    "import torch.nn as nn\n",
    "import tiktoken\n",
    "from blocks import TransformerBlock, InputPreprocess"
   ]
  },
  {
   "cell_type": "code",
   "execution_count": 2,
   "id": "b54459f7",
   "metadata": {},
   "outputs": [],
   "source": [
    "GPT2_CONFIG = {\n",
    "  \"activation_function\": \"gelu_new\",\n",
    "  \"architectures\": [\n",
    "    \"GPT2LMHeadModel\"\n",
    "  ],\n",
    "  \"attn_pdrop\": 0.1,\n",
    "  \"bos_token_id\": 50256,\n",
    "  \"embd_pdrop\": 0.1,\n",
    "  \"eos_token_id\": 50256,\n",
    "  \"initializer_range\": 0.02,\n",
    "  \"layer_norm_epsilon\": 1e-05,\n",
    "  \"model_type\": \"gpt2\",\n",
    "  \"n_ctx\": 1024,\n",
    "  \"n_embd\": 768,\n",
    "  \"n_head\": 12,\n",
    "  \"n_layer\": 12,\n",
    "  \"n_positions\": 1024,\n",
    "  \"resid_pdrop\": 0.1,\n",
    "  \"summary_activation\": None,\n",
    "  \"summary_first_dropout\": 0.1,\n",
    "  \"summary_proj_to_labels\": True,\n",
    "  \"summary_type\": \"cls_index\",\n",
    "  \"summary_use_proj\": True,\n",
    "  \"task_specific_params\": {\n",
    "    \"text-generation\": {\n",
    "      \"do_sample\": True,\n",
    "      \"max_length\": 50\n",
    "    }\n",
    "  },\n",
    "  \"vocab_size\": 50257\n",
    "}"
   ]
  },
  {
   "cell_type": "code",
   "execution_count": 5,
   "id": "c737bf6c",
   "metadata": {},
   "outputs": [],
   "source": [
    "class SmallLLM(nn.Module):\n",
    "    def __init__(self, tokenizer, cfg):\n",
    "        super().__init__()\n",
    "        self.preprocessor = InputPreprocess(tokenizer, cfg)\n",
    "        self.transformers = nn.ModuleList([TransformerBlock(cfg) for _ in range(cfg['n_layer'])])\n",
    "        self.last_embedding_layer = nn.Linear(cfg['n_embd'], cfg['vocab_size'])\n",
    "    \n",
    "    def forward(self, x):\n",
    "        vec_inputs, attn_mask = self.preprocessor(x)\n",
    "        t_outputs = vec_inputs\n",
    "        for transformer in self.transformers:\n",
    "            t_outputs = transformer(t_outputs, attn_mask)\n",
    "        logits = self.last_embedding_layer(t_outputs)\n",
    "        logits = logits[:, -1, :]\n",
    "        probs = torch.softmax(logits, dim=-1)\n",
    "        return probs # return probs to get full distribution not just generated token"
   ]
  },
  {
   "cell_type": "code",
   "execution_count": 6,
   "id": "0cca95ae",
   "metadata": {},
   "outputs": [
    {
     "name": "stdout",
     "output_type": "stream",
     "text": [
      "torch.Size([2, 50257])\n",
      "tensor([[2.9264e-05, 3.1393e-07, 3.8511e-06,  ..., 2.0577e-05, 5.2439e-06,\n",
      "         6.8799e-07],\n",
      "        [4.3263e-05, 4.4047e-06, 1.9637e-05,  ..., 5.9726e-06, 9.7502e-06,\n",
      "         6.9962e-06]], grad_fn=<SoftmaxBackward0>)\n"
     ]
    }
   ],
   "source": [
    "tokenizer = tiktoken.get_encoding('gpt2')\n",
    "sllm = SmallLLM(tokenizer, GPT2_CONFIG)\n",
    "txt = ['Hello, i am', \"I am the one who killed Voldemort\"]\n",
    "out_ids = sllm(txt)\n",
    "print(out_ids.shape)\n",
    "print(out_ids)"
   ]
  },
  {
   "cell_type": "code",
   "execution_count": 14,
   "id": "13be7713",
   "metadata": {},
   "outputs": [
    {
     "data": {
      "text/plain": [
       "['Hello, amped masters ocean Oath orebecev hazardsRY mutantrestthro gatewayKNstrength stabilizationively guruHours pepp',\n",
       " 'Who are you?YL imperative codes turnaroundVelturnedön differentlyVS independentigure Who lordainmentbucks USAF Beware weeks CarmNevertheless']"
      ]
     },
     "execution_count": 14,
     "metadata": {},
     "output_type": "execute_result"
    }
   ],
   "source": [
    "def generate_text(tokenizer, model, text_list, max_length):\n",
    "    decoded_text = text_list\n",
    "    for _ in range(max_length):\n",
    "        probs = model(decoded_text)\n",
    "\n",
    "        next_tokens = torch.argmax(probs, dim=-1).tolist()\n",
    "\n",
    "        for i, token in enumerate(next_tokens):\n",
    "            decoded_new_tokens = tokenizer.decode([token])\n",
    "            decoded_text[i] += decoded_new_tokens\n",
    "    return decoded_text\n",
    "generate_text(tokenizer, sllm, ['Hello, ', 'Who are you?'], 20)"
   ]
  },
  {
   "cell_type": "code",
   "execution_count": null,
   "id": "82a92b21",
   "metadata": {},
   "outputs": [],
   "source": []
  }
 ],
 "metadata": {
  "kernelspec": {
   "display_name": "torchenv",
   "language": "python",
   "name": "python3"
  },
  "language_info": {
   "codemirror_mode": {
    "name": "ipython",
    "version": 3
   },
   "file_extension": ".py",
   "mimetype": "text/x-python",
   "name": "python",
   "nbconvert_exporter": "python",
   "pygments_lexer": "ipython3",
   "version": "3.13.7"
  }
 },
 "nbformat": 4,
 "nbformat_minor": 5
}
